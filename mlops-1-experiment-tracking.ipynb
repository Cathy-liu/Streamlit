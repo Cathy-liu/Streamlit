{
 "cells": [
  {
   "cell_type": "markdown",
   "id": "8b6c5d3c-bf88-4033-8d87-6e087a772346",
   "metadata": {},
   "source": [
    "# Experiment Tracking\n",
    "- In this lesson, we'll learn how to keep track of every experiment you run using [MLFlow](https://mlflow.org/)\n",
    "- MLFlow has other components that help create production ML code. I highly encourage you to spend sometime going through the [MLFlow docs](https://mlflow.org/docs/latest/quickstart.html)"
   ]
  },
  {
   "cell_type": "code",
   "execution_count": 18,
   "id": "8fec1ec1-53bc-4091-ade0-3ba74198c3fd",
   "metadata": {},
   "outputs": [],
   "source": [
    "# Ensure the MLFlow library is installed\n",
    "#!pip install -U mlflow"
   ]
  },
  {
   "cell_type": "markdown",
   "id": "8c5d0b9b-dc83-46c1-9369-6929cc495500",
   "metadata": {},
   "source": [
    "# Initialize MLFlow\n",
    "1. Open a new terminal window\n",
    "1. Activate the `dsi-sg` mamba/conda environment\n",
    "1. Navigate to the `12.01-mlops/solution-code` lesson folder\n",
    "1. Now run the below code from this terminal window. Ensure you're inside the `solution-code` folder!: `mlflow ui --backend-store-uri sqlite:///mlflow.db`\n",
    "1. The above code starts a small webserver running the MLFlow application on your computer. It uses SQLite to store the experiment information in a database\n",
    "1. You can open the mlflow UI by opening this link in your browser: http://localhost:5000/\n",
    "\n",
    "<img src=\"../images/01_01_MLFlow_UI.png\" width=\"1000\">"
   ]
  },
  {
   "cell_type": "code",
   "execution_count": 19,
   "id": "cdfce95f-4d05-4f1e-a9ed-0ccabc893b41",
   "metadata": {},
   "outputs": [],
   "source": [
    "#pip install -U mlflow"
   ]
  },
  {
   "cell_type": "code",
   "execution_count": 20,
   "id": "74a99d64-f858-4993-b316-5bc9f28a0ada",
   "metadata": {},
   "outputs": [],
   "source": [
    "#!pip3 install mlflow"
   ]
  },
  {
   "cell_type": "code",
   "execution_count": 21,
   "id": "af7989b5-ca45-4b58-8724-926d263ff65e",
   "metadata": {},
   "outputs": [],
   "source": [
    "#conda install -c conda-forge mlflow"
   ]
  },
  {
   "cell_type": "code",
   "execution_count": 6,
   "id": "5bc5d41f-2fa2-452d-a94b-570e1fd4c5c5",
   "metadata": {},
   "outputs": [],
   "source": [
    "# Connect this Jupyter notebook to the running MLFlow server \n",
    "import mlflow"
   ]
  },
  {
   "cell_type": "code",
   "execution_count": 7,
   "id": "5e7720ff-fd98-46d5-b388-83c001148ef5",
   "metadata": {},
   "outputs": [],
   "source": [
    "mlflow.set_tracking_uri(\"sqlite:///mlflow.db\")"
   ]
  },
  {
   "cell_type": "code",
   "execution_count": 8,
   "id": "32a2c2ef-fa95-44c8-84fb-8b145cc652d4",
   "metadata": {},
   "outputs": [
    {
     "data": {
      "text/plain": [
       "<Experiment: artifact_location='./mlruns/1', experiment_id='1', lifecycle_stage='active', name='grad-school-admission', tags={}>"
      ]
     },
     "execution_count": 8,
     "metadata": {},
     "output_type": "execute_result"
    }
   ],
   "source": [
    "# Set the name of the experiment we're running in this notebook\n",
    "# MLFlow will connect to an existing experiment or create a new one if the experiment is not already present\n",
    "mlflow.set_experiment(\"grad-school-admission\")"
   ]
  },
  {
   "cell_type": "code",
   "execution_count": 9,
   "id": "badc1900-8ebe-48ba-9553-550a78c64d9c",
   "metadata": {},
   "outputs": [],
   "source": [
    "# Start automatically logging experiment details to MLFlow\n",
    "mlflow.autolog()"
   ]
  },
  {
   "cell_type": "markdown",
   "id": "f1cb9893-f36e-4468-ba87-829c5300a0db",
   "metadata": {},
   "source": [
    "<img src=\"../images/01_02_MLFlow_new_experiment.png\" width=\"1000\">"
   ]
  },
  {
   "cell_type": "markdown",
   "id": "cbc1a587-3e07-438a-8c16-6d07e04bdef2",
   "metadata": {},
   "source": [
    "# Normal ML code"
   ]
  },
  {
   "cell_type": "code",
   "execution_count": 10,
   "id": "96d1c380-5b6a-4269-8216-d79b38082f36",
   "metadata": {},
   "outputs": [
    {
     "name": "stderr",
     "output_type": "stream",
     "text": [
      "2022/09/15 19:42:12 INFO mlflow.tracking.fluent: Autologging successfully enabled for sklearn.\n"
     ]
    }
   ],
   "source": [
    "# Imports\n",
    "import pandas as pd\n",
    "from sklearn.model_selection import train_test_split, GridSearchCV\n",
    "from sklearn.preprocessing import StandardScaler\n",
    "from sklearn.pipeline import Pipeline\n",
    "from sklearn.linear_model import LogisticRegression\n",
    "from sklearn.metrics import get_scorer"
   ]
  },
  {
   "cell_type": "code",
   "execution_count": 11,
   "id": "64f4b64e-3398-4b6d-8cf1-4e464471b13a",
   "metadata": {},
   "outputs": [
    {
     "name": "stdout",
     "output_type": "stream",
     "text": [
      "(3970, 3)\n"
     ]
    },
    {
     "data": {
      "text/html": [
       "<div>\n",
       "<style scoped>\n",
       "    .dataframe tbody tr th:only-of-type {\n",
       "        vertical-align: middle;\n",
       "    }\n",
       "\n",
       "    .dataframe tbody tr th {\n",
       "        vertical-align: top;\n",
       "    }\n",
       "\n",
       "    .dataframe thead th {\n",
       "        text-align: right;\n",
       "    }\n",
       "</style>\n",
       "<table border=\"1\" class=\"dataframe\">\n",
       "  <thead>\n",
       "    <tr style=\"text-align: right;\">\n",
       "      <th></th>\n",
       "      <th>admit</th>\n",
       "      <th>gre</th>\n",
       "      <th>gpa</th>\n",
       "    </tr>\n",
       "  </thead>\n",
       "  <tbody>\n",
       "    <tr>\n",
       "      <th>0</th>\n",
       "      <td>0</td>\n",
       "      <td>380.0</td>\n",
       "      <td>2.915018</td>\n",
       "    </tr>\n",
       "    <tr>\n",
       "      <th>1</th>\n",
       "      <td>1</td>\n",
       "      <td>660.0</td>\n",
       "      <td>4.044540</td>\n",
       "    </tr>\n",
       "    <tr>\n",
       "      <th>2</th>\n",
       "      <td>1</td>\n",
       "      <td>800.0</td>\n",
       "      <td>4.950714</td>\n",
       "    </tr>\n",
       "    <tr>\n",
       "      <th>3</th>\n",
       "      <td>1</td>\n",
       "      <td>640.0</td>\n",
       "      <td>3.921994</td>\n",
       "    </tr>\n",
       "    <tr>\n",
       "      <th>4</th>\n",
       "      <td>0</td>\n",
       "      <td>520.0</td>\n",
       "      <td>2.069878</td>\n",
       "    </tr>\n",
       "  </tbody>\n",
       "</table>\n",
       "</div>"
      ],
      "text/plain": [
       "   admit    gre       gpa\n",
       "0      0  380.0  2.915018\n",
       "1      1  660.0  4.044540\n",
       "2      1  800.0  4.950714\n",
       "3      1  640.0  3.921994\n",
       "4      0  520.0  2.069878"
      ]
     },
     "execution_count": 11,
     "metadata": {},
     "output_type": "execute_result"
    }
   ],
   "source": [
    "# Read in the data\n",
    "admissions = pd.read_csv('../data/grad_admissions.csv')\n",
    "\n",
    "# Drop NA\n",
    "admissions.dropna(inplace=True)\n",
    "\n",
    "print(admissions.shape)\n",
    "admissions.head()"
   ]
  },
  {
   "cell_type": "code",
   "execution_count": 12,
   "id": "98433693-f8ad-4ae4-9760-580454f5d0d6",
   "metadata": {},
   "outputs": [],
   "source": [
    "# Split features & response, define training & testing sets\n",
    "X = admissions.drop(columns=['admit']) # feature matrix\n",
    "y = admissions['admit'] # response vector\n",
    "\n",
    "X_train, X_test, y_train, y_test = train_test_split(X, y, random_state = 50)"
   ]
  },
  {
   "cell_type": "code",
   "execution_count": 13,
   "id": "53aac51c-aa69-4b36-9fb6-f024a7fd93e5",
   "metadata": {},
   "outputs": [
    {
     "name": "stderr",
     "output_type": "stream",
     "text": [
      "2022/09/15 19:42:14 INFO mlflow.utils.autologging_utils: Created MLflow autologging run with ID 'fb7492639e83444cbadea8e631000f2c', which will track hyperparameters, performance metrics, model artifacts, and lineage information for the current sklearn workflow\n",
      "2022/09/15 19:42:22 WARNING mlflow.utils.autologging_utils: MLflow autologging encountered a warning: \"C:\\Users\\Cathy\\anaconda3\\lib\\site-packages\\_distutils_hack\\__init__.py:33: UserWarning: Setuptools is replacing distutils.\"\n"
     ]
    },
    {
     "data": {
      "text/html": [
       "<style>#sk-container-id-1 {color: black;background-color: white;}#sk-container-id-1 pre{padding: 0;}#sk-container-id-1 div.sk-toggleable {background-color: white;}#sk-container-id-1 label.sk-toggleable__label {cursor: pointer;display: block;width: 100%;margin-bottom: 0;padding: 0.3em;box-sizing: border-box;text-align: center;}#sk-container-id-1 label.sk-toggleable__label-arrow:before {content: \"▸\";float: left;margin-right: 0.25em;color: #696969;}#sk-container-id-1 label.sk-toggleable__label-arrow:hover:before {color: black;}#sk-container-id-1 div.sk-estimator:hover label.sk-toggleable__label-arrow:before {color: black;}#sk-container-id-1 div.sk-toggleable__content {max-height: 0;max-width: 0;overflow: hidden;text-align: left;background-color: #f0f8ff;}#sk-container-id-1 div.sk-toggleable__content pre {margin: 0.2em;color: black;border-radius: 0.25em;background-color: #f0f8ff;}#sk-container-id-1 input.sk-toggleable__control:checked~div.sk-toggleable__content {max-height: 200px;max-width: 100%;overflow: auto;}#sk-container-id-1 input.sk-toggleable__control:checked~label.sk-toggleable__label-arrow:before {content: \"▾\";}#sk-container-id-1 div.sk-estimator input.sk-toggleable__control:checked~label.sk-toggleable__label {background-color: #d4ebff;}#sk-container-id-1 div.sk-label input.sk-toggleable__control:checked~label.sk-toggleable__label {background-color: #d4ebff;}#sk-container-id-1 input.sk-hidden--visually {border: 0;clip: rect(1px 1px 1px 1px);clip: rect(1px, 1px, 1px, 1px);height: 1px;margin: -1px;overflow: hidden;padding: 0;position: absolute;width: 1px;}#sk-container-id-1 div.sk-estimator {font-family: monospace;background-color: #f0f8ff;border: 1px dotted black;border-radius: 0.25em;box-sizing: border-box;margin-bottom: 0.5em;}#sk-container-id-1 div.sk-estimator:hover {background-color: #d4ebff;}#sk-container-id-1 div.sk-parallel-item::after {content: \"\";width: 100%;border-bottom: 1px solid gray;flex-grow: 1;}#sk-container-id-1 div.sk-label:hover label.sk-toggleable__label {background-color: #d4ebff;}#sk-container-id-1 div.sk-serial::before {content: \"\";position: absolute;border-left: 1px solid gray;box-sizing: border-box;top: 0;bottom: 0;left: 50%;z-index: 0;}#sk-container-id-1 div.sk-serial {display: flex;flex-direction: column;align-items: center;background-color: white;padding-right: 0.2em;padding-left: 0.2em;position: relative;}#sk-container-id-1 div.sk-item {position: relative;z-index: 1;}#sk-container-id-1 div.sk-parallel {display: flex;align-items: stretch;justify-content: center;background-color: white;position: relative;}#sk-container-id-1 div.sk-item::before, #sk-container-id-1 div.sk-parallel-item::before {content: \"\";position: absolute;border-left: 1px solid gray;box-sizing: border-box;top: 0;bottom: 0;left: 50%;z-index: -1;}#sk-container-id-1 div.sk-parallel-item {display: flex;flex-direction: column;z-index: 1;position: relative;background-color: white;}#sk-container-id-1 div.sk-parallel-item:first-child::after {align-self: flex-end;width: 50%;}#sk-container-id-1 div.sk-parallel-item:last-child::after {align-self: flex-start;width: 50%;}#sk-container-id-1 div.sk-parallel-item:only-child::after {width: 0;}#sk-container-id-1 div.sk-dashed-wrapped {border: 1px dashed gray;margin: 0 0.4em 0.5em 0.4em;box-sizing: border-box;padding-bottom: 0.4em;background-color: white;}#sk-container-id-1 div.sk-label label {font-family: monospace;font-weight: bold;display: inline-block;line-height: 1.2em;}#sk-container-id-1 div.sk-label-container {text-align: center;}#sk-container-id-1 div.sk-container {/* jupyter's `normalize.less` sets `[hidden] { display: none; }` but bootstrap.min.css set `[hidden] { display: none !important; }` so we also need the `!important` here to be able to override the default hidden behavior on the sphinx rendered scikit-learn.org. See: https://github.com/scikit-learn/scikit-learn/issues/21755 */display: inline-block !important;position: relative;}#sk-container-id-1 div.sk-text-repr-fallback {display: none;}</style><div id=\"sk-container-id-1\" class=\"sk-top-container\"><div class=\"sk-text-repr-fallback\"><pre>LogisticRegression()</pre><b>In a Jupyter environment, please rerun this cell to show the HTML representation or trust the notebook. <br />On GitHub, the HTML representation is unable to render, please try loading this page with nbviewer.org.</b></div><div class=\"sk-container\" hidden><div class=\"sk-item\"><div class=\"sk-estimator sk-toggleable\"><input class=\"sk-toggleable__control sk-hidden--visually\" id=\"sk-estimator-id-1\" type=\"checkbox\" checked><label for=\"sk-estimator-id-1\" class=\"sk-toggleable__label sk-toggleable__label-arrow\">LogisticRegression</label><div class=\"sk-toggleable__content\"><pre>LogisticRegression()</pre></div></div></div></div></div>"
      ],
      "text/plain": [
       "LogisticRegression()"
      ]
     },
     "execution_count": 13,
     "metadata": {},
     "output_type": "execute_result"
    }
   ],
   "source": [
    "# Fit a Logistic Regression Model on raw data\n",
    "logreg = LogisticRegression()\n",
    "\n",
    "logreg.fit(X_train, y_train)"
   ]
  },
  {
   "cell_type": "markdown",
   "id": "19517ba8-3ffd-4aa4-9091-ea5ec2430832",
   "metadata": {},
   "source": [
    "<img src=\"../images/01_03_MLFlow_run.png\" width=\"1000\">"
   ]
  },
  {
   "cell_type": "code",
   "execution_count": 14,
   "id": "36c38f9e-b113-4031-b955-0f4be94bc711",
   "metadata": {},
   "outputs": [
    {
     "name": "stderr",
     "output_type": "stream",
     "text": [
      "2022/09/15 19:42:22 INFO mlflow.utils.autologging_utils: Created MLflow autologging run with ID 'f6a3ef28210a4181aad049e68afffb35', which will track hyperparameters, performance metrics, model artifacts, and lineage information for the current sklearn workflow\n"
     ]
    },
    {
     "data": {
      "text/html": [
       "<style>#sk-container-id-2 {color: black;background-color: white;}#sk-container-id-2 pre{padding: 0;}#sk-container-id-2 div.sk-toggleable {background-color: white;}#sk-container-id-2 label.sk-toggleable__label {cursor: pointer;display: block;width: 100%;margin-bottom: 0;padding: 0.3em;box-sizing: border-box;text-align: center;}#sk-container-id-2 label.sk-toggleable__label-arrow:before {content: \"▸\";float: left;margin-right: 0.25em;color: #696969;}#sk-container-id-2 label.sk-toggleable__label-arrow:hover:before {color: black;}#sk-container-id-2 div.sk-estimator:hover label.sk-toggleable__label-arrow:before {color: black;}#sk-container-id-2 div.sk-toggleable__content {max-height: 0;max-width: 0;overflow: hidden;text-align: left;background-color: #f0f8ff;}#sk-container-id-2 div.sk-toggleable__content pre {margin: 0.2em;color: black;border-radius: 0.25em;background-color: #f0f8ff;}#sk-container-id-2 input.sk-toggleable__control:checked~div.sk-toggleable__content {max-height: 200px;max-width: 100%;overflow: auto;}#sk-container-id-2 input.sk-toggleable__control:checked~label.sk-toggleable__label-arrow:before {content: \"▾\";}#sk-container-id-2 div.sk-estimator input.sk-toggleable__control:checked~label.sk-toggleable__label {background-color: #d4ebff;}#sk-container-id-2 div.sk-label input.sk-toggleable__control:checked~label.sk-toggleable__label {background-color: #d4ebff;}#sk-container-id-2 input.sk-hidden--visually {border: 0;clip: rect(1px 1px 1px 1px);clip: rect(1px, 1px, 1px, 1px);height: 1px;margin: -1px;overflow: hidden;padding: 0;position: absolute;width: 1px;}#sk-container-id-2 div.sk-estimator {font-family: monospace;background-color: #f0f8ff;border: 1px dotted black;border-radius: 0.25em;box-sizing: border-box;margin-bottom: 0.5em;}#sk-container-id-2 div.sk-estimator:hover {background-color: #d4ebff;}#sk-container-id-2 div.sk-parallel-item::after {content: \"\";width: 100%;border-bottom: 1px solid gray;flex-grow: 1;}#sk-container-id-2 div.sk-label:hover label.sk-toggleable__label {background-color: #d4ebff;}#sk-container-id-2 div.sk-serial::before {content: \"\";position: absolute;border-left: 1px solid gray;box-sizing: border-box;top: 0;bottom: 0;left: 50%;z-index: 0;}#sk-container-id-2 div.sk-serial {display: flex;flex-direction: column;align-items: center;background-color: white;padding-right: 0.2em;padding-left: 0.2em;position: relative;}#sk-container-id-2 div.sk-item {position: relative;z-index: 1;}#sk-container-id-2 div.sk-parallel {display: flex;align-items: stretch;justify-content: center;background-color: white;position: relative;}#sk-container-id-2 div.sk-item::before, #sk-container-id-2 div.sk-parallel-item::before {content: \"\";position: absolute;border-left: 1px solid gray;box-sizing: border-box;top: 0;bottom: 0;left: 50%;z-index: -1;}#sk-container-id-2 div.sk-parallel-item {display: flex;flex-direction: column;z-index: 1;position: relative;background-color: white;}#sk-container-id-2 div.sk-parallel-item:first-child::after {align-self: flex-end;width: 50%;}#sk-container-id-2 div.sk-parallel-item:last-child::after {align-self: flex-start;width: 50%;}#sk-container-id-2 div.sk-parallel-item:only-child::after {width: 0;}#sk-container-id-2 div.sk-dashed-wrapped {border: 1px dashed gray;margin: 0 0.4em 0.5em 0.4em;box-sizing: border-box;padding-bottom: 0.4em;background-color: white;}#sk-container-id-2 div.sk-label label {font-family: monospace;font-weight: bold;display: inline-block;line-height: 1.2em;}#sk-container-id-2 div.sk-label-container {text-align: center;}#sk-container-id-2 div.sk-container {/* jupyter's `normalize.less` sets `[hidden] { display: none; }` but bootstrap.min.css set `[hidden] { display: none !important; }` so we also need the `!important` here to be able to override the default hidden behavior on the sphinx rendered scikit-learn.org. See: https://github.com/scikit-learn/scikit-learn/issues/21755 */display: inline-block !important;position: relative;}#sk-container-id-2 div.sk-text-repr-fallback {display: none;}</style><div id=\"sk-container-id-2\" class=\"sk-top-container\"><div class=\"sk-text-repr-fallback\"><pre>Pipeline(steps=[(&#x27;scaling&#x27;, StandardScaler()), (&#x27;lr&#x27;, LogisticRegression())])</pre><b>In a Jupyter environment, please rerun this cell to show the HTML representation or trust the notebook. <br />On GitHub, the HTML representation is unable to render, please try loading this page with nbviewer.org.</b></div><div class=\"sk-container\" hidden><div class=\"sk-item sk-dashed-wrapped\"><div class=\"sk-label-container\"><div class=\"sk-label sk-toggleable\"><input class=\"sk-toggleable__control sk-hidden--visually\" id=\"sk-estimator-id-2\" type=\"checkbox\" ><label for=\"sk-estimator-id-2\" class=\"sk-toggleable__label sk-toggleable__label-arrow\">Pipeline</label><div class=\"sk-toggleable__content\"><pre>Pipeline(steps=[(&#x27;scaling&#x27;, StandardScaler()), (&#x27;lr&#x27;, LogisticRegression())])</pre></div></div></div><div class=\"sk-serial\"><div class=\"sk-item\"><div class=\"sk-estimator sk-toggleable\"><input class=\"sk-toggleable__control sk-hidden--visually\" id=\"sk-estimator-id-3\" type=\"checkbox\" ><label for=\"sk-estimator-id-3\" class=\"sk-toggleable__label sk-toggleable__label-arrow\">StandardScaler</label><div class=\"sk-toggleable__content\"><pre>StandardScaler()</pre></div></div></div><div class=\"sk-item\"><div class=\"sk-estimator sk-toggleable\"><input class=\"sk-toggleable__control sk-hidden--visually\" id=\"sk-estimator-id-4\" type=\"checkbox\" ><label for=\"sk-estimator-id-4\" class=\"sk-toggleable__label sk-toggleable__label-arrow\">LogisticRegression</label><div class=\"sk-toggleable__content\"><pre>LogisticRegression()</pre></div></div></div></div></div></div></div>"
      ],
      "text/plain": [
       "Pipeline(steps=[('scaling', StandardScaler()), ('lr', LogisticRegression())])"
      ]
     },
     "execution_count": 14,
     "metadata": {},
     "output_type": "execute_result"
    }
   ],
   "source": [
    "# Scale and fit Logistic Regression Model in a Pipeline\n",
    "sc = StandardScaler()\n",
    "logreg = LogisticRegression()\n",
    "\n",
    "pipe_model = Pipeline(\n",
    "    [\n",
    "        (\"scaling\", sc),\n",
    "        (\"lr\", logreg)\n",
    "    ]\n",
    ")\n",
    "\n",
    "pipe_model.fit(X_train, y_train)"
   ]
  },
  {
   "cell_type": "markdown",
   "id": "5f105d82-8f36-4783-ae8c-db46b399409b",
   "metadata": {},
   "source": [
    "<img src=\"../images/01_04_MLFlow_sort.png\" width=\"1000\">"
   ]
  },
  {
   "cell_type": "markdown",
   "id": "22773f89-d8e8-4d56-b7d9-301eefea1007",
   "metadata": {},
   "source": [
    "## Slighlty updated ML code\n",
    "- MLFlow autologging only logs the training metrics by default\n",
    "\n",
    "<img src=\"../images/01_05_MLFlow_train_metrics.png\" width=\"400\">\n",
    "\n",
    "- To log test metrics as well, we need to just calculate any test metric we want inside a `with mlflow.start_run():` block as below:\n",
    "\n",
    "    ```\n",
    "    # Previously\n",
    "    pipe_model.fit(X_train, y_train)\n",
    "    \n",
    "    # New\n",
    "    with mlflow.start_run():\n",
    "        pipe_model.fit(X_train, y_train)\n",
    "        \n",
    "        # Calculate any test metric we want to log here\n",
    "        \n",
    "    ```"
   ]
  },
  {
   "cell_type": "code",
   "execution_count": 15,
   "id": "3e8899b1-4a3e-490c-960e-39958dbb05ab",
   "metadata": {},
   "outputs": [
    {
     "name": "stdout",
     "output_type": "stream",
     "text": [
      "Test accuracy: 0.904330312185297\n",
      "Test precision: 0.8368055555555556\n",
      "Test recall: 0.8339100346020761\n",
      "Test f1: 0.8353552859618718\n"
     ]
    }
   ],
   "source": [
    "# Scale and fit Logistic Regression Model and log test metrics as well\n",
    "sc = StandardScaler()\n",
    "logreg = LogisticRegression()\n",
    "\n",
    "pipe_model = Pipeline(\n",
    "    [\n",
    "        (\"scaling\", sc),\n",
    "        (\"lr\", logreg)\n",
    "    ]\n",
    ")\n",
    "\n",
    "with mlflow.start_run():\n",
    "    pipe_model.fit(X_train, y_train)\n",
    "    \n",
    "    # These metrics get logged automatically by just calculating them\n",
    "    for metric in ['accuracy', 'precision', 'recall', 'f1']:\n",
    "        print(f'Test {metric}: {get_scorer(metric)(pipe_model, X_test, y_test)}')\n",
    "    \n",
    "    # We can also log metrics manually to the same run\n",
    "    mlflow.log_metrics({'roc_auc_score_X_test': get_scorer('roc_auc')(pipe_model, X_test, y_test)})"
   ]
  },
  {
   "cell_type": "markdown",
   "id": "1d9e68d4-fd07-49d1-b309-0210fb8605d8",
   "metadata": {},
   "source": [
    "<img src=\"../images/01_06_MLFlow_all_metrics.png\" width=\"400\">"
   ]
  },
  {
   "cell_type": "markdown",
   "id": "44db5dc5-0d01-45a0-b68f-b3925ebdccae",
   "metadata": {},
   "source": [
    "## Hyperparameter tuning is exactly the same!"
   ]
  },
  {
   "cell_type": "code",
   "execution_count": 16,
   "id": "27e5010d-dcdb-47fa-a824-68a1f149c2c7",
   "metadata": {},
   "outputs": [
    {
     "name": "stdout",
     "output_type": "stream",
     "text": [
      "Fitting 5 folds for each of 15 candidates, totalling 75 fits\n"
     ]
    },
    {
     "name": "stderr",
     "output_type": "stream",
     "text": [
      "2022/09/15 19:42:48 INFO mlflow.sklearn.utils: Logging the 5 best runs, 10 runs will be omitted.\n"
     ]
    },
    {
     "name": "stdout",
     "output_type": "stream",
     "text": [
      "Test accuracy: 0.9063444108761329\n",
      "Test precision: 0.8426573426573427\n",
      "Test recall: 0.8339100346020761\n",
      "Test f1: 0.8382608695652175\n"
     ]
    }
   ],
   "source": [
    "# Logging runs of hyperparameter tuning.\n",
    "sc = StandardScaler()\n",
    "logreg = LogisticRegression()\n",
    "\n",
    "pipe_model = Pipeline(\n",
    "    [\n",
    "        (\"scaling\", sc),\n",
    "        (\"lr\", logreg)\n",
    "    ]\n",
    ")\n",
    "\n",
    "params = {\n",
    "    'lr__solver': ['newton-cg', 'lbfgs', 'liblinear'],\n",
    "    'lr__penalty': ['l2'],\n",
    "    'lr__C': [100, 10, 1.0, 0.1, 0.01]\n",
    "}\n",
    "\n",
    "gridsearch_model = GridSearchCV(pipe_model, \n",
    "                                params, \n",
    "                                cv=5,\n",
    "                                verbose=1, \n",
    "                                n_jobs=-1)\n",
    "\n",
    "with mlflow.start_run():\n",
    "    gridsearch_model.fit(X_train, y_train)\n",
    "    \n",
    "    for metric in ['accuracy', 'precision', 'recall', 'f1']:\n",
    "        print(f'Test {metric}: {get_scorer(metric)(gridsearch_model, X_test, y_test)}')\n",
    "        \n",
    "    mlflow.log_metrics({'roc_auc_score_X_test': get_scorer('roc_auc')(gridsearch_model, X_test, y_test)})"
   ]
  },
  {
   "cell_type": "code",
   "execution_count": 17,
   "id": "f9d2f363-1bf0-4069-9e1e-82c7c2f4cec1",
   "metadata": {},
   "outputs": [
    {
     "data": {
      "text/plain": [
       "{'lr__C': 0.1, 'lr__penalty': 'l2', 'lr__solver': 'newton-cg'}"
      ]
     },
     "execution_count": 17,
     "metadata": {},
     "output_type": "execute_result"
    }
   ],
   "source": [
    "gridsearch_model.best_params_"
   ]
  },
  {
   "cell_type": "markdown",
   "id": "3b2d8d6a-e734-462b-bdfb-57a9acd4fa2c",
   "metadata": {},
   "source": [
    "### Hyperparameter runs are grouped together for convenience\n",
    "<img src=\"../images/01_07_MLFlow_hyperparam.png\" width=\"1000\">\n",
    "\n",
    "### The parameters and the metrics of the best model are all logged\n",
    "<img src=\"../images/01_08_MLFlow_hyperparam_best_params.png\" width=\"600\">\n",
    "\n",
    "### The best model is also saved to a file so we can deploy it easily\n",
    "<img src=\"../images/01_09_MLFlow_hyperparam_best_model.png\" width=\"1000\">"
   ]
  },
  {
   "cell_type": "markdown",
   "id": "75559d82-4967-4e2b-a440-8e78a5fb929d",
   "metadata": {},
   "source": [
    "# Download model for deployment\n",
    "- After we've run all our experiments, we can choose a model to prepare for deployment\n",
    "- We can use the path of the run to download the required artifacts such as saved model, requirements.txt, etc\n",
    "- This is all the info we need to deploy this model!\n",
    "\n",
    "<img src=\"../images/01_10_MLFlow_trained_model.png\" width=\"1000\">"
   ]
  },
  {
   "cell_type": "code",
   "execution_count": 18,
   "id": "41180b69-392d-42ea-b812-91867585025a",
   "metadata": {},
   "outputs": [],
   "source": [
    "from mlflow.artifacts import download_artifacts\n"
   ]
  },
  {
   "cell_type": "code",
   "execution_count": 20,
   "id": "14f52694-ab16-4f4b-bdea-7366f8432ad3",
   "metadata": {},
   "outputs": [
    {
     "data": {
      "text/plain": [
       "'C:\\\\Users\\\\Documents\\\\GA\\\\my_materials\\\\12.01-mlops\\\\solution-code\\\\best_estimator'"
      ]
     },
     "execution_count": 20,
     "metadata": {},
     "output_type": "execute_result"
    }
   ],
   "source": [
    "\n",
    "# Download the desired model from MLFlow to local directory\n",
    "# Get the URL by following instructions in above image\n",
    "full_path = './mlruns/1/dd88565752c9428dbaa71955e4f34e99/artifacts/best_estimator'\n",
    "download_artifacts(full_path, dst_path='.')"
   ]
  },
  {
   "cell_type": "code",
   "execution_count": 21,
   "id": "99a98586-72d6-40be-b679-3e22459583f3",
   "metadata": {},
   "outputs": [],
   "source": [
    "# Load the downloaded model\n",
    "import mlflow.pyfunc\n",
    "\n",
    "model = mlflow.pyfunc.load_model(model_uri=\"./best_estimator\")"
   ]
  },
  {
   "cell_type": "code",
   "execution_count": 22,
   "id": "e708fa79-14cf-4f91-8e39-0d6113444e05",
   "metadata": {},
   "outputs": [
    {
     "data": {
      "text/plain": [
       "array([0, 0, 0, 1, 0], dtype=int64)"
      ]
     },
     "execution_count": 22,
     "metadata": {},
     "output_type": "execute_result"
    }
   ],
   "source": [
    "# Run predictions\n",
    "y_pred = model.predict(X_test)\n",
    "\n",
    "# Print first five predictions\n",
    "y_pred[:5]"
   ]
  },
  {
   "cell_type": "markdown",
   "id": "f30159f4-e74a-4e1e-bfd9-e221696d4a12",
   "metadata": {},
   "source": [
    "# Cleanup\n",
    "\n",
    "## To stop and restart MLFlow server\n",
    "- To stop the MLFlow server, press `Ctrl + C` in the terminal window that's running the MLFlow server.\n",
    "- You can restart the MLFlow server ***IN THE SAME FOLDER*** by running `mlflow ui --backend-store-uri sqlite:///mlflow.db` again and all your past experiments will still show up!\n",
    "\n",
    "## To totally remove all MLFlow files to start from scratch\n",
    "1. ***WARNING!*** Doing this will wipe out all your MLFlow experiment runs and saved models and there's no way to recover your data!\n",
    "1. Stop MLFlow server by pressing `Ctrl + C` in the terminal window that's running the MLFlow server\n",
    "1. Delete the `mlruns` directory\n",
    "1. Delete the `mlflow.db` file"
   ]
  },
  {
   "cell_type": "markdown",
   "id": "987643f6-a80a-4a34-a5e3-c342908ea482",
   "metadata": {},
   "source": [
    "# Conclusion\n",
    "In this lesson, we\n",
    "1. Installed and started up an MLFlow server on our local computer\n",
    "1. Used MLFlow autologging to log experiment runs to the MLFlow server\n",
    "1. Saw how we can log additional metrics such as test metrics and hyperparameter searches\n",
    "1. Downloaded the final version of the model that we want to deploy"
   ]
  }
 ],
 "metadata": {
  "kernelspec": {
   "display_name": "Python 3 (ipykernel)",
   "language": "python",
   "name": "python3"
  },
  "language_info": {
   "codemirror_mode": {
    "name": "ipython",
    "version": 3
   },
   "file_extension": ".py",
   "mimetype": "text/x-python",
   "name": "python",
   "nbconvert_exporter": "python",
   "pygments_lexer": "ipython3",
   "version": "3.9.13"
  }
 },
 "nbformat": 4,
 "nbformat_minor": 5
}
