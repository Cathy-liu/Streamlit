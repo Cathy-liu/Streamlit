{
 "cells": [
  {
   "cell_type": "markdown",
   "id": "3343b9fe-ab7a-4f2c-b16b-2e4dfb652ed4",
   "metadata": {},
   "source": [
    "# User Interface to interact with a deployed model\n",
    "- Once we deploy our model on a cloud platform such as GCP Cloud Run that is accessible over the internet, we can quickly build a beautiful website to allow users to access it.\n",
    "- Strictly speaking, buinding a UI is not part of MLOps. But it is helpful to build up a portfolio of projects when you're job hunting.\n",
    "- There are many ways to build a UI using pure Python these days. DO NOT burden yourself writting pure HTML and CSS. These python libraries will do everything for you!\n",
    "    - [Streamlit](https://streamlit.io/): Most popular and allows to freely host your website either on [Streamlit cloud](https://streamlit.io/cloud) or [Huggingface spaces](https://huggingface.co/spaces). Owned by Snowflake, a popular data warehouse company\n",
    "    - [Gradio](https://gradio.app/): Popular for image based applications and your website can be freely hosted on [Huggingface spaces](https://huggingface.co/spaces). Owned by Huggingface, the godfather of NLP models.\n",
    "    - [Plotly Dash](https://dash.plotly.com/): Plotly is a hugely popular plotting library in Python. Dash is their open source dashboarding library. Very powerful but has a learning curve. In my opinion, Dash is probably the tool you want to use if you're selling the tool to others as it can build very high quality websites. But there is no option to host the website for free.\n",
    "- We'll use Streamlit to build a simple UI for the model we deployed to GCP Cloud Run and host this UI on Streamlit cloud.\n",
    "- ***IMPORTANT!*** We need the GCP Cloud Run API URL from `mlops-3-docker.ipynb` notebook to proceed"
   ]
  },
  {
   "cell_type": "code",
   "execution_count": 1,
   "id": "f661eb93-aa1b-46f2-be08-1769302331f8",
   "metadata": {},
   "outputs": [],
   "source": [
    "# Ensure the Streamlit library is installed\n",
    "# !pip install -U streamlit"
   ]
  },
  {
   "cell_type": "markdown",
   "id": "5e2b61fd-b884-45a9-9996-249ee6d012f3",
   "metadata": {},
   "source": [
    "# Create a simple Streamlit app\n",
    "- We can use the API reference documentation to add on elements to our UI: https://docs.streamlit.io/library/api-reference"
   ]
  },
  {
   "cell_type": "code",
   "execution_count": 2,
   "id": "2f89922c-eb5b-4d86-9c60-d9cc6b66fcaa",
   "metadata": {},
   "outputs": [
    {
     "name": "stdout",
     "output_type": "stream",
     "text": [
      "Overwriting streamlit_app.py\n"
     ]
    }
   ],
   "source": [
    "%%writefile streamlit_app.py\n",
    "import streamlit as st\n",
    "import requests\n",
    "import json\n",
    "\n",
    "# Title of the page\n",
    "st.title(\"🎓 Graduate School Admissions\")"
   ]
  },
  {
   "cell_type": "markdown",
   "id": "57a7f400-f6e2-4666-ba74-dc00793f8104",
   "metadata": {},
   "source": [
    "# Run the streamlit app\n",
    "1. Open a new terminal window and navigate to this `solution-code` directory. You should find the `streamlit_app.py` file that we just created here.\n",
    "1. Run: `streamlit run streamlit_app.py`\n",
    "\n",
    "Done! Your streamlit app is now running and you can access it on your browser at the URL: http://localhost:8501\n",
    "\n",
    "- Let's now add 2 variables `gre` and `gpa` and get their values from the user input in the UI\n",
    "- We can use the `-a` flag in `%%writefile` to append lines to the same file instead of overwriting it"
   ]
  },
  {
   "cell_type": "code",
   "execution_count": 3,
   "id": "782bf324-9153-4608-8cde-3f243e8b9fa3",
   "metadata": {},
   "outputs": [
    {
     "name": "stdout",
     "output_type": "stream",
     "text": [
      "Appending to streamlit_app.py\n"
     ]
    }
   ],
   "source": [
    "%%writefile -a streamlit_app.py\n",
    "\n",
    "# Get user inputs\n",
    "gre = st.number_input(\"📚 GRE Score:\", min_value=0, max_value=800, help=\"GRE score in the range 0 to 800\") # int max value to allow only int inputs\n",
    "gpa = st.number_input(\"✍️ GPA Score:\", min_value=0.0, max_value=5.0, help=\"GPA in the range 0 to 5\") # float max value to allow decimal inputs\n",
    "\n",
    "# Display the inputs\n",
    "user_input = {\"gre\":gre,\"gpa\":gpa}\n",
    "st.write(\"User input:\")\n",
    "st.write(user_input)"
   ]
  },
  {
   "cell_type": "markdown",
   "id": "c12b0d68-34de-4974-abd8-1cb25e47350f",
   "metadata": {},
   "source": [
    "### Automatically update the app whenever the code changes\n",
    "Click on \"Always rerun\" on the top right had side corner of the streamlit UI to ensure the UI is updated automatically whenever we update the `streamlit_app.py` file\n",
    "\n",
    "<img src=\"../images/04_01_auto_refresh.png\" width=\"1000\">\n",
    "\n",
    "- Let's now update the app to make a call to the GCP Cloud Run API using the values of `gre` and `gpa`"
   ]
  },
  {
   "cell_type": "code",
   "execution_count": 4,
   "id": "49a675ba-0a14-48be-bcad-a9cb8232cab8",
   "metadata": {},
   "outputs": [
    {
     "name": "stdout",
     "output_type": "stream",
     "text": [
      "Appending to streamlit_app.py\n"
     ]
    }
   ],
   "source": [
    "%%writefile -a streamlit_app.py\n",
    "\n",
    "# Code to post the user inputs to the API and get the predictions\n",
    "# Paste the URL to your GCP Cloud Run API here!\n",
    "api_url = 'https://grad-school-admission-a4rmk57awq-as.a.run.app'\n",
    "api_route = '/predict'\n",
    "\n",
    "response = requests.post(f'{api_url}{api_route}', json=json.dumps(user_input)) # json.dumps() converts dict to JSON\n",
    "predictions = response.json()\n",
    "\n",
    "# Add a submit button\n",
    "if st.button(\"Submit\"): \n",
    "    st.write(f\"Prediction: {predictions['predictions'][0]}\")"
   ]
  },
  {
   "cell_type": "markdown",
   "id": "339e854e-6abf-4888-82a1-4956afe2bdf3",
   "metadata": {},
   "source": [
    "### Your awesome new streamlit app should now look something like this\n",
    "\n",
    "<img src=\"../images/04_02_streamlit_app.png\" width=\"500\">"
   ]
  },
  {
   "cell_type": "markdown",
   "id": "90142735-4cde-4b77-9de6-24f95f181036",
   "metadata": {},
   "source": [
    "# Publish your app to Streamlit cloud\n",
    "- Streamlit cloud allows you to have an unlimited number of public apps! \n",
    "- It's very helpful to build a portfolio of projects to share with hiring managers and a good starting point for interviews.\n",
    "- The only limitation is each app can use 1GB memory. This is not an issue if your ML model is deployed on GCP Cloud run and we only use `requests` to query the model. However, if you want to deploy your model in the `streamlit_app.py` itself, you might run into issues with the 1GB limit especially with deep learning models.\n",
    "- To publish your app on Streamlit cloud, there are two steps\n",
    "    1. Push `streamlit_app.py` code to a github repo\n",
    "    1. Deploy using the github link of `streamlit_app.py`\n",
    "\n",
    "### 1. Push `streamlit_app.py` code to a github repo\n",
    "1. Create a new public github repo. Say, `streamlit-apps`\n",
    "1. Git clone the `streamlit_app.py` file to that repo. It can be inside a folder too! For example, take a look at my repo: https://github.com/stephenleo/streamlit-apps\n",
    "1. Copy-paste the `streamlit_app.py` file into the repo\n",
    "1. Git commit and git push the changes\n",
    "1. Confirm you can see the `streamlit_app.py` file in the github repository\n",
    "\n",
    "### 2. Deploy using the github link of `streamlit_app.py`\n",
    "1. Sign up or sign in to streamlit cloud at: https://streamlit.io/cloud\n",
    "1. Connect to your github account when it prompts you to\n",
    "1. Click on the arrow beside `New app` and select `From existing repo`\n",
    "    \n",
    "    <img src=\"../images/04_03_streamlit_cloud_from_existing_repo.png\" width=\"1000\">\n",
    "    \n",
    "1. On the next page, select your repository and the `streamlit_app.py` file\n",
    "\n",
    "    <img src=\"../images/04_04_streamlit_cloud_select_repo.png\" width=\"1000\">\n",
    "\n",
    "1. After some time, your app is deployed on streamlit cloud and you can share the link to the app with anyone on the internet!!! \n",
    "1. The app will also automatically get updated everytime you update the github repository! Very convenient!\n",
    "1. Check out the app I deployed here: https://stephenleo-streamlit-apps--home-2idnzy.streamlitapp.com/Streamlit_%E2%9C%96%EF%B8%8F_GCP_Cloud_Run. I added more customizations to show you the possibilities! If you want to know more, take a look at the github repo: https://github.com/stephenleo/streamlit-apps"
   ]
  },
  {
   "cell_type": "markdown",
   "id": "c375e3a7-7e57-43b6-8d59-33a53837780b",
   "metadata": {},
   "source": [
    "# Cleanup\n",
    "- Streamlit cloud is free for public apps, so you can keep your app running as long as the GCP Cloud run API is still running\n",
    "- If you want to, you can delete a Streamlit cloud app by clicking delete on the Steamlit cloud UI"
   ]
  },
  {
   "cell_type": "code",
   "execution_count": null,
   "id": "54c693be-010e-413d-98ae-70c2ece28abe",
   "metadata": {},
   "outputs": [],
   "source": []
  }
 ],
 "metadata": {
  "kernelspec": {
   "display_name": "Python 3 (ipykernel)",
   "language": "python",
   "name": "python3"
  },
  "language_info": {
   "codemirror_mode": {
    "name": "ipython",
    "version": 3
   },
   "file_extension": ".py",
   "mimetype": "text/x-python",
   "name": "python",
   "nbconvert_exporter": "python",
   "pygments_lexer": "ipython3",
   "version": "3.8.13"
  }
 },
 "nbformat": 4,
 "nbformat_minor": 5
}
